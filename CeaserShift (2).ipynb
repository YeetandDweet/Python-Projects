{
  "nbformat": 4,
  "nbformat_minor": 0,
  "metadata": {
    "colab": {
      "name": "CeaserShift.ipynb",
      "provenance": [],
      "collapsed_sections": []
    },
    "kernelspec": {
      "name": "python3",
      "display_name": "Python 3"
    },
    "language_info": {
      "name": "python"
    }
  },
  "cells": [
    {
      "cell_type": "markdown",
      "source": [
        "# Ceaser Shift"
      ],
      "metadata": {
        "id": "ZvMfDNU4KKqa"
      }
    },
    {
      "cell_type": "markdown",
      "source": [
        "This cypher uses list to both encode and decode words to make a message."
      ],
      "metadata": {
        "id": "Y4aoSzupK7P5"
      }
    },
    {
      "cell_type": "code",
      "execution_count": null,
      "metadata": {
        "id": "TTdRrPc_7_Z7"
      },
      "outputs": [],
      "source": [
        "alpha = \"ABCDEFGHIJKLMNOPQRSTUVWXYZ\""
      ]
    },
    {
      "cell_type": "code",
      "source": [
        "def caesar_encode(text, n):\n",
        "  answer_list = []\n",
        "  for letter in text: \n",
        "    ind = alpha.index(letter) \n",
        "    ind = ind + n     \n",
        "    ind %=26 \n",
        "    answer_list.append(alpha[ind]) \n",
        "    \n",
        "  return \"\".join(answer_list) "
      ],
      "metadata": {
        "id": "wjeQrLR7LeU2"
      },
      "execution_count": null,
      "outputs": []
    },
    {
      "cell_type": "markdown",
      "source": [
        "This part of the code is the *encode*:\n",
        "\n",
        "1. Creates a def function with the arguments text and n\n",
        "2. we've created a new list that's empty for now\n",
        "3. a for loop with the letter counting in text ex: the 0 index is t in text\n",
        "4. ind = the index(number) of the letter in alpha(the alphabet in the first part of the code) \n",
        "5. ind = our index plus n which is the shift \n",
        "6. ind = ind divided by 26 and whatever the remainder is will be appended top the new list ( this would reapeat for each letter)\n",
        "7. Returns the strings from the list"
      ],
      "metadata": {
        "id": "av2j7Jh_LmLU"
      }
    },
    {
      "cell_type": "code",
      "source": [
        "def caesar_decode(text, n):\n",
        "  \n",
        "  decode_list = []\n",
        "  for letter in text:\n",
        "    ind = alpha.index(letter)\n",
        "    ind = ind - n # ind -= n\n",
        "    decode_list.append(alpha[ind])\n",
        "  return \"\".join(decode_list)"
      ],
      "metadata": {
        "id": "Pa9T2ESoOzhb"
      },
      "execution_count": null,
      "outputs": []
    },
    {
      "cell_type": "markdown",
      "source": [
        "This part of the code is the *decode*\n",
        "\n",
        "1. creates a def list with the arguments test and n\n",
        "2.  we've created a new list that's empty for now\n",
        "3.  This line repeats the same line from the for loop\n",
        "4.  ind = ind minus the shift so now it will decrease by one\n",
        "5. the index is then appended to decoded list after being matched with the alpha\n",
        "6.  Returns the string from the list"
      ],
      "metadata": {
        "id": "mF7EAzH4O80b"
      }
    },
    {
      "cell_type": "code",
      "source": [
        "userinput = input(\"Enter text: \")\n",
        "userinput = userinput.upper()\n",
        "\n",
        "test = \"HELLOWORLD\"\n",
        "shift = 1\n",
        "enc = caesar_encode(userinput, shift)\n",
        "dec = caesar_decode(enc, shift)\n",
        "#print(caesar_decode(i))\n",
        "print(enc)\n",
        "print(dec)\n",
        "# If this worked, dec should be the same as test!"
      ],
      "metadata": {
        "id": "FwvxeC5VO9od"
      },
      "execution_count": null,
      "outputs": []
    },
    {
      "cell_type": "markdown",
      "source": [
        "These are certain varibles used in the Ceaser Shift\n",
        "\n",
        "- Userinputs are what word you entered when returned it is uppercased\n",
        "- The test word is \"HelloWorld\n",
        "- shift = 1 this is the same variable as n\n",
        "- Enc encodes the text that the User entered, Dec decodes whatever encoded message was put out\n",
        "- Both the scrambled word and the original word are printed"
      ],
      "metadata": {
        "id": "pW8uhUktQknS"
      }
    }
  ]
}