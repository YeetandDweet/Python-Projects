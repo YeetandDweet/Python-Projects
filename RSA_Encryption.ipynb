{
  "nbformat": 4,
  "nbformat_minor": 0,
  "metadata": {
    "colab": {
      "name": "RSA_Encryption.ipynb",
      "provenance": []
    },
    "kernelspec": {
      "name": "python3",
      "display_name": "Python 3"
    },
    "language_info": {
      "name": "python"
    }
  },
  "cells": [
    {
      "cell_type": "markdown",
      "source": [
        "#RSA Encryption\n",
        "\n",
        "Here is my code/explanation of the RSA Encrryption it usesprime numbers functions, loops and different keys."
      ],
      "metadata": {
        "id": "nQSbFYWq5v2p"
      }
    },
    {
      "cell_type": "code",
      "execution_count": 1,
      "metadata": {
        "id": "0qnmvJkU4znC"
      },
      "outputs": [],
      "source": [
        "import math\n",
        "alpha = \"ABCDEFGHIJKLMNOPQRSTUVWXYZ\"\n",
        "\n",
        "def mod_inverse_helper(a, b): #\n",
        "    q, r = a//b, a%b   \n",
        "    if r == 1:\n",
        "        return (1, -1 * q)\n",
        "    u, v = mod_inverse_helper(b, r)\n",
        "    return (v, -1 * q * v + u)\n",
        "\n",
        "def mod_inverse(a, m): \n",
        "    assert math.gcd(a, m) == 1, \"You're trying to invert \" + str(a) + \" in mod \" + str(m) + \" and that doesn't work!\"\n",
        "    return mod_inverse_helper(m, a)[1] % m"
      ]
    },
    {
      "cell_type": "code",
      "source": [
        "def convert_to_num(ngram):\n",
        "  f_num=0 \n",
        "  for i in range(len(ngram)): \n",
        "    k = alpha.index(ngram[i]) \n",
        "    exp = 26**i \n",
        "    f_num = f_num + k * exp \n",
        "  return f_num "
      ],
      "metadata": {
        "id": "fsRmNLcu5Zge"
      },
      "execution_count": 2,
      "outputs": []
    },
    {
      "cell_type": "markdown",
      "source": [
        "1. This creates a new function convert_to_num with the arguements ngram\n",
        "2. f_num = 0\n",
        "3. Starts a for loop; for index in the range of the length of ngram\n",
        "4. k =the indexs of ngram applied in alpha\n",
        "5. exp = 26 to the power of i\n",
        "6. f_num = f_num(0) + k times exp\n",
        "7. returns f_num"
      ],
      "metadata": {
        "id": "3IfivvwX6Cz9"
      }
    },
    {
      "cell_type": "code",
      "source": [
        "def convert_to_text(num, n):\n",
        "  text_list=[]\n",
        "  for i in range(n):\n",
        "    f_let = num%26 \n",
        "    num = (num//26) \n",
        "    text_list.append(alpha[f_let])\n",
        "  return''.join(text_list)"
      ],
      "metadata": {
        "id": "Yjy08NSG5cNm"
      },
      "execution_count": 3,
      "outputs": []
    },
    {
      "cell_type": "markdown",
      "source": [
        "1. This creates a new function convert_to_text with the arguements num and n\n",
        "2. creates a empty list\n",
        "3. Starts a for loop; for index in the range of n\n",
        "3. f_let = num divided by 26 (we're given the remainder)\n",
        "4. num = num(the variable test converted to a number) floor divison 26\n",
        "appends the letters from f_let\n",
        "5. returns the formed word"
      ],
      "metadata": {
        "id": "QQ-vzILW6rgT"
      }
    },
    {
      "cell_type": "code",
      "source": [
        "def rsa_encode(text, m, e):\n",
        "  num = convert_to_num(text)\n",
        "  rsa_num = pow(num,e,m)\n",
        "  return rsa_num"
      ],
      "metadata": {
        "id": "VtUX0TEX5f31"
      },
      "execution_count": 4,
      "outputs": []
    },
    {
      "cell_type": "markdown",
      "source": [
        "1. Creates a function rsa_encode with the arguments text, m, e\n",
        "2. num = the convert_to_num function with argument (text)\n",
        "3. rsa_num = num to the power of e divided by e (we're given the remainder)\n",
        "4. return rsa_num"
      ],
      "metadata": {
        "id": "ce0W-vkn61_s"
      }
    },
    {
      "cell_type": "code",
      "source": [
        "def rsa_decode(num, m, d, l):\n",
        "  rsa_num = pow(num,d,m)\n",
        "  word = convert_to_text(rsa_num,l)\n",
        "  return word"
      ],
      "metadata": {
        "id": "h2jIJw7K5kHa"
      },
      "execution_count": 5,
      "outputs": []
    },
    {
      "cell_type": "markdown",
      "source": [
        "1. creates the function rsa_decode with the arguments num, m, d, l\n",
        "2. rsa_num = num to the power of d divided by m (we're given the remainder)\n",
        "3. word = the function convert_to _text with the argument rsa_num and l\n",
        "4. returns word"
      ],
      "metadata": {
        "id": "DDL9iEet7jmy"
      }
    },
    {
      "cell_type": "code",
      "source": [
        "def get_d(p, q, e):\n",
        "  t = (p-1) * (q-1)\n",
        "  mit = mod_inverse(e, t)\n",
        "  return mit"
      ],
      "metadata": {
        "id": "e1KfoR5M5m0G"
      },
      "execution_count": 6,
      "outputs": []
    },
    {
      "cell_type": "markdown",
      "source": [
        "1. creates the function get_d with the arguments p q and e\n",
        "2. t = p-1 times q-1\n",
        "3. mit = the mod inverse of e and t\n",
        "4. returns mit"
      ],
      "metadata": {
        "id": "7UaOHI8k8KEQ"
      }
    },
    {
      "cell_type": "code",
      "source": [
        "text = \"THEFIVEBOXINGWIZARDSJUMPQUICKLY\"\n",
        "l = len(text) \n",
        "p = 292361466231755597564095925310764764819 \n",
        "q = 307125506157764866722739041634199200019 \n",
        "e = 65537 \n",
        "m = p * q \n",
        "d = get_d(p, q, e) \n",
        "enc = rsa_encode(text, m, e) \n",
        "dec = rsa_decode(enc, m, d, l) \n",
        "print(enc) \n",
        "print(dec)"
      ],
      "metadata": {
        "colab": {
          "base_uri": "https://localhost:8080/"
        },
        "id": "_KCVSDq35mse",
        "outputId": "c76cdce2-70b7-49f5-9eed-475a65e8e5cc"
      },
      "execution_count": 7,
      "outputs": [
        {
          "output_type": "stream",
          "name": "stdout",
          "text": [
            "34028226424022141662679340496616735128390579906964150145035108807466384852365\n",
            "THEFIVEBOXINGWIZARDSJUMPQUICKLY\n"
          ]
        }
      ]
    },
    {
      "cell_type": "markdown",
      "source": [
        "1.  Creates a new variable text = \"THEFIVEBOXINGWIZARDSJUMPQUICKLY\"\n",
        "2. Creates a new variable l = length of text\n",
        "3. Creates a new variable p = 292361466231755597564095925310764764819 a prime number\n",
        "4. Creates a new variable q = 307125506157764866722739041634199200019 a prime number \n",
        "5.  Creates a new variable e = 65537 \n",
        "6. Creates a new variable m = p*q\n",
        "7.  Creates a new variable d = uses the function get_d with the arguments p, q, and e\n",
        "8. Creates a new variable enc = This uses the function to use the rsa_encode with the arguments text, m, and e\n",
        "9. Creates a new variable dec = This uses the function to use the rsa_decode with the arguments enc, m, d, and l\n",
        "10. Prints enc\n",
        "11. Prints dec"
      ],
      "metadata": {
        "id": "aDKZaHtO87VF"
      }
    }
  ]
}