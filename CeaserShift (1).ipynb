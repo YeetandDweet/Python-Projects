{
  "nbformat": 4,
  "nbformat_minor": 0,
  "metadata": {
    "colab": {
      "name": "CeaserShift.ipynb",
      "provenance": [],
      "collapsed_sections": []
    },
    "kernelspec": {
      "name": "python3",
      "display_name": "Python 3"
    },
    "language_info": {
      "name": "python"
    }
  },
  "cells": [
    {
      "cell_type": "markdown",
      "source": [
        "# Ceaser Shift"
      ],
      "metadata": {
        "id": "ZvMfDNU4KKqa"
      }
    },
    {
      "cell_type": "markdown",
      "source": [
        "This cypher uses list to both encode and decode words to make a message."
      ],
      "metadata": {
        "id": "Y4aoSzupK7P5"
      }
    },
    {
      "cell_type": "code",
      "execution_count": 9,
      "metadata": {
        "id": "TTdRrPc_7_Z7"
      },
      "outputs": [],
      "source": [
        "alpha = \"ABCDEFGHIJKLMNOPQRSTUVWXYZ\""
      ]
    },
    {
      "cell_type": "code",
      "source": [
        "def caesar_encode(text, n):\n",
        "  answer_list = []\n",
        "  for letter in text: \n",
        "    ind = alpha.index(letter) \n",
        "    ind = ind + n     \n",
        "    ind %=26 \n",
        "    answer_list.append(alpha[ind]) \n",
        "    \n",
        "  return \"\".join(answer_list) "
      ],
      "metadata": {
        "id": "wjeQrLR7LeU2"
      },
      "execution_count": 10,
      "outputs": []
    },
    {
      "cell_type": "markdown",
      "source": [
        "This part of the code is the *encode*:\n",
        "\n",
        "- we've created a new list called \"answer_list = []\n",
        "- letter is counting in text ex: the 0 index is t in text\n",
        "- ind = the index(number) of the letter in alpha(the alphabet in the first part of the code) \n",
        "- ind = our index plus n which is the shift\n",
        "- ind = ind divided by 26 and now it equals the remainder\n",
        "- Returns the strings from the list"
      ],
      "metadata": {
        "id": "av2j7Jh_LmLU"
      }
    },
    {
      "cell_type": "code",
      "source": [
        "def caesar_decode(text, n):\n",
        "  \n",
        "  decode_list = []\n",
        "  for letter in text:\n",
        "    ind = alpha.index(letter)\n",
        "    ind = ind - n # ind -= n\n",
        "    decode_list.append(alpha[ind])\n",
        "  return \"\".join(decode_list)"
      ],
      "metadata": {
        "id": "Pa9T2ESoOzhb"
      },
      "execution_count": 11,
      "outputs": []
    },
    {
      "cell_type": "markdown",
      "source": [
        "This part of the code is the *decode*\n",
        "\n",
        "- we've created a new list called decode_list which is empty\n",
        "- This line is a repeat of the line in the encode\n",
        "- ind = ind minus the shift\n",
        "- the index is then appended to decoded list after being matched with the alpha\n",
        "- Returns the string from the list"
      ],
      "metadata": {
        "id": "mF7EAzH4O80b"
      }
    },
    {
      "cell_type": "code",
      "source": [
        "userinput = input(\"Enter text: \")\n",
        "userinput = userinput.upper()\n",
        "\n",
        "test = \"HELLOWORLD\"\n",
        "shift = 1\n",
        "enc = caesar_encode(userinput, shift)\n",
        "dec = caesar_decode(enc, shift)\n",
        "#print(caesar_decode(i))\n",
        "print(enc)\n",
        "print(dec)\n",
        "# If this worked, dec should be the same as test!"
      ],
      "metadata": {
        "id": "FwvxeC5VO9od"
      },
      "execution_count": null,
      "outputs": []
    },
    {
      "cell_type": "markdown",
      "source": [
        "These are certain varibles used in the Ceaser Shift\n",
        "\n",
        "- Userinputs are what word you entered when returned it is uppercased\n",
        "- The test word is \"HelloWorld\n",
        "- Enc encodes the text that the User entered, Dec decodes whatever encoded messagewas put out"
      ],
      "metadata": {
        "id": "pW8uhUktQknS"
      }
    }
  ]
}