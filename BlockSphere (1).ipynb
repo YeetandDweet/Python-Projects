{
  "nbformat": 4,
  "nbformat_minor": 0,
  "metadata": {
    "colab": {
      "name": "BlockSphere.ipynb",
      "provenance": [],
      "collapsed_sections": []
    },
    "kernelspec": {
      "name": "python3",
      "display_name": "Python 3"
    },
    "language_info": {
      "name": "python"
    }
  },
  "cells": [
    {
      "cell_type": "markdown",
      "source": [
        "#Block spheres"
      ],
      "metadata": {
        "id": "V1fLU6rIlKzH"
      }
    },
    {
      "cell_type": "markdown",
      "source": [
        "These are blockspheres made by using quantum circuits, h gates and x gates"
      ],
      "metadata": {
        "id": "mVwwIjEimp3u"
      }
    },
    {
      "cell_type": "code",
      "execution_count": null,
      "metadata": {
        "id": "y1GxNjGej4BZ"
      },
      "outputs": [],
      "source": [
        "pip install qiskit"
      ]
    },
    {
      "cell_type": "code",
      "source": [
        "from qiskit import QuantumCircuit  #Importing the QuantumCircuit function from Qiskit. We will use this to create our quantum circuits!\n",
        "\n",
        "from qiskit.visualization import visualize_transition # We will use this function to run our circuit and visualize its final state\n",
        "\n",
        "import warnings  # We are using this library to suppress some warning messages\n",
        "warnings.filterwarnings(\"ignore\")\n",
        "\n",
        "print(\"Libraries imported successfully!\")\n",
        "\n",
        "qc = QuantumCircuit(1)\n",
        "qc.x(0)\n",
        "qc.draw\n",
        "visualize_transition(qc, trace = True)"
      ],
      "metadata": {
        "id": "FI82l1LyoBFM"
      },
      "execution_count": null,
      "outputs": []
    },
    {
      "cell_type": "code",
      "source": [
        "Qc = QuantumCircuit(1)\n",
        "Qc.h(0)\n",
        "Qc.draw()\n",
        "visualize_transition(Qc, trace = True)"
      ],
      "metadata": {
        "id": "_pkwVT9UpQVQ"
      },
      "execution_count": null,
      "outputs": []
    },
    {
      "cell_type": "code",
      "source": [
        "qC = QuantumCircuit(1)\n",
        "\n",
        "qC.h(0)\n",
        "qC.x(0)\n",
        "qC.h(0)\n",
        "\n",
        "qC.draw\n",
        "visualize_transition(qC, trace = True)"
      ],
      "metadata": {
        "id": "VdZCW1KBppOG"
      },
      "execution_count": null,
      "outputs": []
    }
  ]
}