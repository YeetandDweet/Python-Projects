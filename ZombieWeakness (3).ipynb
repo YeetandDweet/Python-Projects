{
  "nbformat": 4,
  "nbformat_minor": 0,
  "metadata": {
    "colab": {
      "name": "ZombieWeakness.ipynb",
      "provenance": [],
      "collapsed_sections": []
    },
    "kernelspec": {
      "name": "python3",
      "display_name": "Python 3"
    },
    "language_info": {
      "name": "python"
    }
  },
  "cells": [
    {
      "cell_type": "markdown",
      "source": [
        "# **Zombie Weakness**"
      ],
      "metadata": {
        "id": "F0jUvRIXmAS6"
      }
    },
    {
      "cell_type": "markdown",
      "source": [
        "This project displays skills of lists, if/elif/else loops and the use of variables. "
      ],
      "metadata": {
        "id": "b7WO-e71hzBu"
      }
    },
    {
      "cell_type": "code",
      "execution_count": 17,
      "metadata": {
        "colab": {
          "base_uri": "https://localhost:8080/"
        },
        "id": "92wiREyMlnXN",
        "outputId": "6295466a-aa3a-48da-f5b1-344b64a73f64"
      },
      "outputs": [
        {
          "output_type": "stream",
          "name": "stdout",
          "text": [
            "hello world\n",
            "\n",
            "Wassup homie you my dear homeslice bread slice have encountered a whack zombie. choose a weapon and wreck this fool\n",
            "\n",
            "['Holo sword', 'Gut buster', 'Literal gun', 'That guy from Fortnite']\n",
            "\n",
            "here's your arsenal ya dig, press 1 if you want to use my weapons or press 2 to use your own\n",
            " : 2\n",
            "name your weapon monet e\n",
            "pick your weapon now stupid(input in the name of the weapon) Holo sword\n",
            "The Holo sword goes through the enemy, (you dead chuclkenuts)\n"
          ]
        }
      ],
      "source": [
        "print(\"hello world\")\n",
        "zombieweakness = (\"gut buster\")\n",
        "weapons = [\"Holo sword\", \"Gut buster\", \"Literal gun\",\"That guy from Fortnite\"]\n",
        "print( )\n",
        "print(\"Wassup homie you my dear homeslice bread slice have encountered a whack zombie. choose a weapon and wreck this fool\")\n",
        "print( )\n",
        "print(weapons)\n",
        "print( )\n",
        "print(\"here's your arsenal ya dig, press 1 if you want to use my weapons or press 2 to use your own\")\n",
        "choice = int(input(\" : \"))\n",
        "\n",
        "if choice == 1:\n",
        "  choice2 = (input(\"which weapon would you like (input the name of one of the weapons specified home skillet \"))\n",
        "\n",
        "  if choice2 == \"Holo sword\":\n",
        "   print(\"The Holo sword goes through the enemy, (you dead chuclkenuts)\") \n",
        "\n",
        "  if choice2 == \"Gut buster\":\n",
        "      print(\"The gut buster obliterated his lower-body and you sent him to the shadow realm(you crunk at the sticks my radical broseph)\")\n",
        "\n",
        "  if choice2 == \"Literal Gun\":\n",
        "    print(\"You shot the gun at him too bad its in the 77th dimension so it couldn't hit him (my g you must be buggin)\")\n",
        "\n",
        "    if choice2 == \"That guy from Fortnite\":\n",
        "      print(\"As your about to use the weapon a bunch of random people come to you and you get the life smacked out of you (secret bad ending butt munch)\")\n",
        "  \n",
        "elif choice == 2:\n",
        "  choice3 = input(\"name your weapon monet \")\n",
        "\n",
        "if choice3 != weapons:\n",
        "  weapons.append(choice3)\n",
        "\n",
        "choice4 = (input(\"pick your weapon now stupid(input in the name of the weapon) \"))\n",
        "\n",
        "if choice4 == \"Holo sword\":\n",
        "  print(\"The Holo sword goes through the enemy, (you dead chuclkenuts)\") \n",
        "\n",
        "elif choice4 == \"Gut buster\":\n",
        "  print(\"The gut buster obliterated his lower-body and you sent him to the shadow realm(you crunk at the sticks my radical broseph)\")\n",
        "\n",
        "elif choice4 == \"Literal Gun\":\n",
        "  print(\"You shot the gun at him too bad its in the 77th dimension so it couldn't hit him (my g you must be buggin)\")\n",
        "\n",
        "elif choice4 == \"That guy from Fortnite\":\n",
        "  print(\"As your about to use the weapon a bunch of random people come to you and you get the life smacked out of you (secret bad ending butt munch)\")\n",
        "\n",
        "elif choice4 == weapons[4]:\n",
        "  print(\"I gotta be honest I got no clue what that just did but it didnt kill him, next\")"
      ]
    }
  ]
}