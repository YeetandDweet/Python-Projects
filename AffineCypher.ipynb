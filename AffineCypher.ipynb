{
  "nbformat": 4,
  "nbformat_minor": 0,
  "metadata": {
    "colab": {
      "name": "AffineCypher.ipynb",
      "provenance": []
    },
    "kernelspec": {
      "name": "python3",
      "display_name": "Python 3"
    },
    "language_info": {
      "name": "python"
    }
  },
  "cells": [
    {
      "cell_type": "markdown",
      "source": [
        "#Affine Cypher\n",
        "Here is my code/description for the apphine cypher it uses lists, for loops, and other functions"
      ],
      "metadata": {
        "id": "h8aE6Yg8mjBr"
      }
    },
    {
      "cell_type": "code",
      "execution_count": 58,
      "metadata": {
        "id": "fdgVAuMCfbV7"
      },
      "outputs": [],
      "source": [
        "import math\n",
        "alpha = \"ABCDEFGHIJKLMNOPQRSTUVWXYZ\"\n",
        "\n",
        "def mod_inverse_helper(a, b):\n",
        "    q, r = a//b, a%b\n",
        "    if r == 1:\n",
        "        return (1, -1 * q)\n",
        "    u, v = mod_inverse_helper(b, r)\n",
        "    return (v, -1 * q * v + u)\n",
        "\n",
        "def mod_inverse(a, m):\n",
        "    assert math.gcd(a, m) == 1, \"You're trying to invert \" + str(a) + \" in mod \" + str(m) + \" and that doesn't work!\"\n",
        "    return mod_inverse_helper(m, a)[1] % m"
      ]
    },
    {
      "cell_type": "markdown",
      "source": [
        "# Part 1"
      ],
      "metadata": {
        "id": "uX2RUzGPrko4"
      }
    },
    {
      "cell_type": "code",
      "source": [
        "def affine_enc(text, a, b):\n",
        "  enc_list=[]\n",
        "  for i in range(len(text)):\n",
        "    m_num = alpha.index(text[i])\n",
        "    k_num = (m_num * a) \n",
        "    e_num = (k_num + b) %26\n",
        "    enc_list.append(alpha[e_num])\n",
        "  return ''.join(enc_list)"
      ],
      "metadata": {
        "id": "VncVXAHVhh57"
      },
      "execution_count": 59,
      "outputs": []
    },
    {
      "cell_type": "markdown",
      "source": [
        "1. This creates a new function affine_encode with the arguements text, a, and b\n",
        "2.  Creates an empty list\n",
        "3. This starts a loop; for i(index) in the range of the length of the inde of text\n",
        "4. m_num = the text index in the alphabet index\n",
        "5. k_num = the indexs of m_num times a(3)\n",
        "6. e_num = the k_num(m_num and a) + b(10)\n",
        "7. uses the empty list to take the letters from the alpha index of e_num\n",
        "8. retuns the list in a string"
      ],
      "metadata": {
        "id": "nJQjgqH-jBa3"
      }
    },
    {
      "cell_type": "code",
      "source": [
        "def affine_dec(text, a, b):\n",
        "  dec_list=[]\n",
        "  for i in range(len(text)):\n",
        "    m_num = alpha.index(text[i])\n",
        "    k_num = (m_num-b) \n",
        "    e_num = (k_num*mod_inverse(a,26)) %26\n",
        "    dec_list.append(alpha[e_num])\n",
        "  return ''.join(dec_list)"
      ],
      "metadata": {
        "id": "R2EJlKt3hmkQ"
      },
      "execution_count": 60,
      "outputs": []
    },
    {
      "cell_type": "markdown",
      "source": [
        "1. This creates a new function affine_encode with the arguements text, a, and b\n",
        "2. Creates an empty list\n",
        "3. This starts a loop; for i(index) in the range of the length of the inde of text\n",
        "4. m_num = the text index in the alphabet index\n",
        "5. k_num = the difference of m_num and b(10)\n",
        "6. e_num = k_num times the mod inverse(the inverese number of a specific mod) divided by mod 26, you end up with the remainder\n",
        "7. the letter from the alpha index of e_num is appended to the empty list\n",
        "8. retuns the list in a string"
      ],
      "metadata": {
        "id": "3dI-0a65mBhk"
      }
    },
    {
      "cell_type": "code",
      "source": [
        "test = \"CONNECTIONTERMINATED\"\n",
        "a = 3\n",
        "b = 10\n",
        "enc = affine_enc(test, a, b)\n",
        "dec = affine_dec(enc, a, b)\n",
        "print(enc)\n",
        "print(dec)"
      ],
      "metadata": {
        "colab": {
          "base_uri": "https://localhost:8080/"
        },
        "id": "vOKO6Gm6ho9t",
        "outputId": "1cd07795-e825-4ccf-8334-e5eae743e46c"
      },
      "execution_count": 61,
      "outputs": [
        {
          "output_type": "stream",
          "name": "stdout",
          "text": [
            "QAXXWQPIAXPWJUIXKPWT\n",
            "CONNECTIONTERMINATED\n"
          ]
        }
      ]
    },
    {
      "cell_type": "markdown",
      "source": [
        "1. Creates a new variable test = RIZZJUSVIBIN\n",
        "2.  Creates a new variable a = 3\n",
        "3.  Creates a new variable b = 10\n",
        "4.  This uses the function to use the affine_enc with the arguments of text, a, and b\n",
        "5. This uses the function to use the affine_dec with the arguments of enc, a, and b\n",
        "6. Prints enc\n",
        "7. Prints dec"
      ],
      "metadata": {
        "id": "HGo0eM6wqmtP"
      }
    },
    {
      "cell_type": "markdown",
      "source": [
        "# Part 2"
      ],
      "metadata": {
        "id": "BxVVfqeBrppX"
      }
    },
    {
      "cell_type": "code",
      "source": [
        "def convert_to_num(ngram):\n",
        "  f_num=0\n",
        "  for i in range(len(ngram)):\n",
        "    k = alpha.index(ngram[i])\n",
        "    exp = 26**i\n",
        "    f_num = f_num + k * exp\n",
        "  return f_num"
      ],
      "metadata": {
        "id": "6bPibTLVhta1"
      },
      "execution_count": 62,
      "outputs": []
    },
    {
      "cell_type": "markdown",
      "source": [
        "1. This creates a new function convert_to_num with the arguements ngram\n",
        "2. f_num = 0\n",
        "3. Starts a for loop; for index in the range of the length of ngram\n",
        "4. k =the indexs of ngram applied in alpha\n",
        "5. exp = 26 to the power of i\n",
        "6. f_num = f_num(0) + k times exp\n",
        "7. returns f_num"
      ],
      "metadata": {
        "id": "jEQw6TmFrxRv"
      }
    },
    {
      "cell_type": "code",
      "source": [
        "def convert_to_text(num, n):\n",
        "  text_list=[]\n",
        "  for i in range(n):\n",
        "    f_let = num%26\n",
        "    num = (num//26)\n",
        "    text_list.append(alpha[f_let])\n",
        "  return''.join(text_list)"
      ],
      "metadata": {
        "id": "_y0mSHS_huoc"
      },
      "execution_count": 63,
      "outputs": []
    },
    {
      "cell_type": "markdown",
      "source": [
        "1. This creates a new function convert_to_text with the arguements num and n\n",
        "2. creates a empty list\n",
        "3. Starts a for loop; for index in the range of n\n",
        "4. f_let = num divided by 26 (we're given the remainder)\n",
        "5. num = num(the variable test converted to a number) floor divison 26\n",
        "6. appends the letters from f_let \n",
        "7. returns the formed word"
      ],
      "metadata": {
        "id": "jXJJfD5ms-DI"
      }
    },
    {
      "cell_type": "code",
      "source": [
        "test = \"THEQUICKBROWNFOXJUMPEDOVERTHELAZYDOG\"\n",
        "lt = len(test)\n",
        "num = convert_to_num(test)\n",
        "answer = convert_to_text(num, lt)\n",
        "print(num)\n",
        "print(answer)"
      ],
      "metadata": {
        "colab": {
          "base_uri": "https://localhost:8080/"
        },
        "id": "rHDUl_UBhyXZ",
        "outputId": "489690f3-b25a-4070-b6ad-3c70a348bc97"
      },
      "execution_count": 64,
      "outputs": [
        {
          "output_type": "stream",
          "name": "stdout",
          "text": [
            "218741750267309021256255930435388550208768849997977\n",
            "THEQUICKBROWNFOXJUMPEDOVERTHELAZYDOG\n"
          ]
        }
      ]
    },
    {
      "cell_type": "markdown",
      "source": [
        "1. Creates a variable test = \"THEQUICKBROWNFOXJUMPEDOVERTHELAZYDOG\"\n",
        "2. Creates a variable lt = length of test\n",
        "3. Creates a variable num = convert_to_num with the arguement test\n",
        "4. Creates a variable answer = convert_to_text with the argument num and lt\n",
        "5. print num\n",
        "6. print answer"
      ],
      "metadata": {
        "id": "N7htw1b6vPOc"
      }
    },
    {
      "cell_type": "markdown",
      "source": [
        "#Part 3"
      ],
      "metadata": {
        "id": "mydYeui-4UYU"
      }
    },
    {
      "cell_type": "code",
      "source": [
        "def affine_n_encode(text, n, a, b):\n",
        "  r = len(text)%n \n",
        "  sub = n - r \n",
        "  final_text = text+\"X\"*sub\n",
        "  encode_list = []\n",
        "  for location in range(0,len(text),n):\n",
        "    ngram = final_text[location:location+n]\n",
        "    num = convert_to_num(ngram)\n",
        "    af_num=(num*a+b)%(26**n)\n",
        "    af_let = convert_to_text(af_num,n)\n",
        "    encode_list.append(af_let)\n",
        "  return ''.join(encode_list)"
      ],
      "metadata": {
        "id": "kuum0rBhh2vd"
      },
      "execution_count": 65,
      "outputs": []
    },
    {
      "cell_type": "markdown",
      "source": [
        "1. Creates a new function affine_n_encode with four arguements text, n, a,and b\n",
        "2. r = the length of text mod n(we're left with the remainder)\n",
        "3. sub = n(5) - r\n",
        "final_text = text + X(this is used if we have a remainder in our conversion) times sub\n",
        "4. creates a empty list \n",
        "5. Creates a for loop; for location in range of 0 in legth of textt of n\n",
        "6. ngram = final_text [location:location + n] this is used as a function for ngram\n",
        "7. af_num = (num times a(347) + b(1721) divided by 26 to the power of n (we're given the remainder) \n",
        "8. af_let = the funtion convert_to_text with the arguments of af_num and n\n",
        "9. appends af_let into the list\n",
        "10. returns the encoded word from the list"
      ],
      "metadata": {
        "id": "VAIcG1RSw2DS"
      }
    },
    {
      "cell_type": "code",
      "source": [
        "def affine_n_decode(text, n, a, b):\n",
        "  dec_list = []\n",
        "  a_inv = mod_inverse(a,26**n)\n",
        "  for i in range(0,len(text),n):\n",
        "    ngram = text[i:i+n] \n",
        "    num = convert_to_num(ngram)\n",
        "    af_num = (num-b)*a_inv%(26**n)\n",
        "    af_le = convert_to_text(af_num,n)\n",
        "    dec_list.append(af_le)\n",
        "  return ''.join(dec_list)"
      ],
      "metadata": {
        "id": "nisXP57diAPM"
      },
      "execution_count": 66,
      "outputs": []
    },
    {
      "cell_type": "markdown",
      "source": [
        "1. Creates a new function affine_n_decode with four arguements text, n, a,and b\n",
        "2. creates a empty list\n",
        "3. a_inv = the mod inverse of a and 26 to the power of n\n",
        "4. Creates a for loop; for index in range of 0 and the legth of text and n\n",
        "5. ngram = text [index:index + n]\n",
        "6. num = the function convert_to_num with the argument ngram\n",
        "7. af_num = num - b(1721) times a_inv diveded by 26 to the power of n\n",
        "8. af_le = the function convert_to_text with the arguments af_num and n\n",
        "9. append af_le to the empty list(dec_list\n",
        "10. returns the list"
      ],
      "metadata": {
        "id": "AyokvBah0h0G"
      }
    },
    {
      "cell_type": "code",
      "source": [
        "test = \"THEQUICKBROWNFOXJUMPEDOVERTHELAZYDOG\"\n",
        "n = 5 \n",
        "a = 347 \n",
        "b = 1721 \n",
        "enc = affine_n_encode(test, n, a, b) \n",
        "dec = affine_n_decode(enc, n, a, b) \n",
        "print(enc) \n",
        "print(dec) "
      ],
      "metadata": {
        "colab": {
          "base_uri": "https://localhost:8080/"
        },
        "id": "ihRyAkTwiUeO",
        "outputId": "c9359be7-bd51-479c-f3e0-36a7bf08082b"
      },
      "execution_count": 67,
      "outputs": [
        {
          "output_type": "stream",
          "name": "stdout",
          "text": [
            "USLTFZITNPBJEWREMCQTPQONLCWPJAFFGWWHPZFG\n",
            "THEQUICKBROWNFOXJUMPEDOVERTHELAZYDOGXXXX\n"
          ]
        }
      ]
    },
    {
      "cell_type": "markdown",
      "source": [
        "1. Creates a new variable = \"THEQUICKBROWNFOXJUMPEDOVERTHELAZYDOG\"\n",
        "2. Creates a new variable n = 5\n",
        "3.  Creates a new variable a = 347\n",
        "4.  Creates a new variable b = 1721\n",
        "5.  Creates a new variable enc = This uses the function to use the affine_n_encode with the arguments of text, n, a, and b\n",
        "6. Creates a new variable dec = This uses the function to use the affine_n_decode with the arguments of text, a, n, and b\n",
        "7. prints enc\n",
        "8. prints dec"
      ],
      "metadata": {
        "id": "_a6iqrAE3S9t"
      }
    }
  ]
}